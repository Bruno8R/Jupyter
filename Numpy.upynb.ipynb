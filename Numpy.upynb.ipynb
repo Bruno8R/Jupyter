{
 "cells": [
  {
   "attachments": {},
   "cell_type": "markdown",
   "metadata": {},
   "source": [
    "# NumPy Array \n",
    "\n",
    "basic array manipulations:\n",
    "- <b>Attributes of arrays</b>: Determining the size, shape, memory consumption, and data types of arrays\n",
    "- <b>Indexing of arrays</b>: Getting and setting the value of individual array elements\n",
    "- <b>Slicing of arrays</b>: Getting and setting smaller subarrays within a larger array\n",
    "- <b>Reshaping of arrays</b>: Changing the shape of a given array\n",
    "- <b>Joining and splitting of arrays</b>: Combining multiple arrays into one, and splitting one array into many"
   ]
  },
  {
   "attachments": {},
   "cell_type": "markdown",
   "metadata": {},
   "source": [
    "## NumPy Array Attributes\n",
    "\n",
    "First let’s discuss some useful array attributes. We’ll start by defining three random\n",
    "arrays: a one-dimensional, two-dimensional, and three-dimensional array. We’ll use\n",
    "NumPy’s random number generator, which we will seed with a set value in order to\n",
    "ensure that the same random arrays are generated each time this code is run:\n"
   ]
  },
  {
   "attachments": {},
   "cell_type": "markdown",
   "metadata": {},
   "source": [
    "<!-- First let’s discuss some useful array attributes. We’ll start by defining three random\n",
    "arrays: a one-dimensional, two-dimensional, and three-dimensional array. We’ll use\n",
    "NumPy’s random number generator, which we will seed with a set value in order to\n",
    "ensure that the same random arrays are generated each time this code is run: -->"
   ]
  },
  {
   "cell_type": "code",
   "execution_count": 16,
   "metadata": {},
   "outputs": [
    {
     "name": "stdout",
     "output_type": "stream",
     "text": [
      "[5 0 3 3 7 9] \n",
      "\n",
      "[[3 5 2 4]\n",
      " [7 6 8 8]\n",
      " [1 6 7 7]] \n",
      "\n",
      "[[[8 1 5 9 8]\n",
      "  [9 4 3 0 3]\n",
      "  [5 0 2 3 8]\n",
      "  [1 3 3 3 7]]\n",
      "\n",
      " [[0 1 9 9 0]\n",
      "  [4 7 3 2 7]\n",
      "  [2 0 0 4 5]\n",
      "  [5 6 8 4 1]]\n",
      "\n",
      " [[4 9 8 1 1]\n",
      "  [7 9 9 3 6]\n",
      "  [7 2 0 3 5]\n",
      "  [9 4 4 6 4]]]\n"
     ]
    }
   ],
   "source": [
    "import numpy as np\n",
    "\n",
    "np.random.seed(0) # seed for reproducibility\n",
    "x1 = np.random.randint(10, size=6) # One-dimensional array\n",
    "x2 = np.random.randint(10, size=(3, 4)) # Two-dimensional array\n",
    "x3 = np.random.randint(10, size=(3, 4, 5)) # Three-dimensional array\n",
    "\n",
    "print(x1,\"\\n\")\n",
    "print(x2,\"\\n\")\n",
    "print(x3)"
   ]
  },
  {
   "cell_type": "code",
   "execution_count": 28,
   "metadata": {},
   "outputs": [
    {
     "name": "stdout",
     "output_type": "stream",
     "text": [
      "x1: ndim = 1 shape = (6,) size = 6\n",
      "x2: ndim = 2 shape = (3, 4) size = 12\n",
      "x3: ndim = 3 shape = (3, 4, 5) size = 60\n"
     ]
    }
   ],
   "source": [
    "# Each array has attributes ndim (the number of dimensions), shape (the size of each # dimension), and size (the total size of the array):\n",
    "print(\"x1: ndim =\", x1.ndim, \"shape =\", x1.shape, \"size =\", x1.size)\n",
    "print(\"x2: ndim =\", x2.ndim, \"shape =\", x2.shape, \"size =\", x2.size)\n",
    "print(\"x3: ndim =\", x3.ndim, \"shape =\", x3.shape, \"size =\", x3.size)"
   ]
  },
  {
   "cell_type": "code",
   "execution_count": 31,
   "metadata": {},
   "outputs": [
    {
     "name": "stdout",
     "output_type": "stream",
     "text": [
      "dtype: int32\n",
      "itemsize: 4 bytes\n",
      "nbytes: 240 bytes\n"
     ]
    }
   ],
   "source": [
    "# Another useful attribute is the dtype, the data type of the array\n",
    "print(\"dtype:\", x3.dtype)\n",
    "# Other attributes include itemsize, which lists the size (in bytes) of each array element,\n",
    "# and nbytes, which lists the total size (in bytes) of the array:\n",
    "print(\"itemsize:\", x3.itemsize, \"bytes\")\n",
    "print(\"nbytes:\", x3.nbytes, \"bytes\")\n"
   ]
  },
  {
   "attachments": {},
   "cell_type": "markdown",
   "metadata": {},
   "source": [
    "## NumPy Array Indexing\n",
    "\n",
    "Slice indexing:\n",
    "\n",
    "Similar to the use of slice indexing with lists and strings, we can use slice indexing to pull out sub-regions of ndarrays. You can access the ith value (counting from zero) by specifying the desired index in square brackets, just as with Python lists:"
   ]
  },
  {
   "cell_type": "code",
   "execution_count": 12,
   "metadata": {},
   "outputs": [
    {
     "name": "stdout",
     "output_type": "stream",
     "text": [
      "  0  1  2  3\n",
      "[[11 12 13 14]\n",
      " [21 22 23 24]\n",
      " [31 32 33 34]]\n"
     ]
    }
   ],
   "source": [
    "import numpy as np\n",
    "\n",
    "# Rank 2 array of shape (3, 4)\n",
    "an_array = np.array([[11,12,13,14], [21,22,23,24], [31,32,33,34]])\n",
    "print(\" \",0, \"\", 1, \"\",2, \"\", 3) # index\n",
    "print(an_array)"
   ]
  },
  {
   "attachments": {},
   "cell_type": "markdown",
   "metadata": {},
   "source": [
    "Use array slicing to get a subarray consisting of the first 2 rows x 2 columns."
   ]
  },
  {
   "cell_type": "code",
   "execution_count": 18,
   "metadata": {},
   "outputs": [
    {
     "name": "stdout",
     "output_type": "stream",
     "text": [
      "[[5 2]\n",
      " [6 8]]\n"
     ]
    }
   ],
   "source": [
    "a_slice = an_array[:2, 1:3]\n",
    "print(a_slice)"
   ]
  },
  {
   "attachments": {},
   "cell_type": "markdown",
   "metadata": {},
   "source": [
    "When you modify a slice, you actually modify the underlying array.\n",
    "\n",
    "One important—and extremely useful—thing to know about array slices is that they\n",
    "return views rather than copies of the array data. This is one area in which NumPy\n",
    "array slicing differs from Python list slicing: in lists, slices will be copies"
   ]
  },
  {
   "cell_type": "code",
   "execution_count": 19,
   "metadata": {},
   "outputs": [
    {
     "name": "stdout",
     "output_type": "stream",
     "text": [
      "Before: 5\n",
      "After: 1000\n"
     ]
    }
   ],
   "source": [
    "print(\"Before:\", an_array[0, 1]) #inspect the element at 0, 1  \n",
    "a_slice[0, 0] = 1000 # a_slice[0, 0] is the same piece of data as an_array[0, 1]\n",
    "print(\"After:\", an_array[0, 1])  "
   ]
  },
  {
   "cell_type": "code",
   "execution_count": 24,
   "metadata": {},
   "outputs": [
    {
     "name": "stdout",
     "output_type": "stream",
     "text": [
      "Before:\n",
      " [[12  5  2  4]\n",
      " [ 7  6  8  8]\n",
      " [ 1  6  7  7]]\n",
      "After:\n",
      " [[99  5]\n",
      " [ 7  6]]\n"
     ]
    }
   ],
   "source": [
    "an_array = np.array([[12,5,2,4], [7,6,8,8], [1,6,7,7]])\n",
    "# Let’s extract a 2×2 subarray from this\n",
    "\n",
    "# Let’s extract a 2×2 subarray from this\n",
    "a_slice = an_array[:2, :2]\n",
    "\n",
    "# Now if we modify this subarray, we’ll see that the original array is changed\n",
    "print(\"Before:\\n\", an_array)\n",
    "a_slice[0,0] = 99\n",
    "print(\"After:\\n\", a_slice)\n"
   ]
  },
  {
   "attachments": {},
   "cell_type": "markdown",
   "metadata": {},
   "source": [
    "Creating copies of arrays\n",
    "\n",
    "Despite the nice features of array views, it is sometimes useful to instead explicitly\n",
    "copy the data within an array or a subarray. This can be most easily done with the\n",
    "copy() method:"
   ]
  },
  {
   "cell_type": "code",
   "execution_count": 31,
   "metadata": {},
   "outputs": [
    {
     "data": {
      "text/plain": [
       "array([[12,  5],\n",
       "       [ 7,  6]])"
      ]
     },
     "execution_count": 31,
     "metadata": {},
     "output_type": "execute_result"
    }
   ],
   "source": [
    "an_array = np.array([[12,5,2,4], [7,6,8,8], [1,6,7,7]])\n",
    "a_copy = an_array[:2,:2].copy()\n",
    "\n",
    "a_copy"
   ]
  },
  {
   "cell_type": "code",
   "execution_count": 32,
   "metadata": {},
   "outputs": [
    {
     "name": "stdout",
     "output_type": "stream",
     "text": [
      "[[42  5]\n",
      " [ 7  6]]\n",
      "[[12  5  2  4]\n",
      " [ 7  6  8  8]\n",
      " [ 1  6  7  7]]\n"
     ]
    }
   ],
   "source": [
    "# If we now modify this subarray, the original array is not touched:\n",
    "a_copy[0,0] = 42\n",
    "\n",
    "print(a_copy)\n",
    "print(an_array)"
   ]
  },
  {
   "attachments": {},
   "cell_type": "markdown",
   "metadata": {},
   "source": [
    "Use both integer indexing & slice indexing\n",
    "\n",
    "We can use combinations of integer indexing and slice indexing to create different shaped matrices."
   ]
  },
  {
   "cell_type": "code",
   "execution_count": 34,
   "metadata": {},
   "outputs": [
    {
     "name": "stdout",
     "output_type": "stream",
     "text": [
      "[[11 12 13 14]\n",
      " [21 22 23 24]\n",
      " [31 32 33 34]] (3, 4)\n"
     ]
    }
   ],
   "source": [
    "# Create a Rank 2 array of shape (3, 4)\n",
    "an_array = np.array([[11,12,13,14], [21,22,23,24], [31,32,33,34]])\n",
    "print(an_array, an_array.shape)"
   ]
  },
  {
   "cell_type": "code",
   "execution_count": 35,
   "metadata": {},
   "outputs": [
    {
     "name": "stdout",
     "output_type": "stream",
     "text": [
      "[11 12 13 14] (4,)\n"
     ]
    }
   ],
   "source": [
    "# Using both integer indexing & slicing generates an array of lower rank\n",
    "row_rank1 = an_array[0, :]    # Rank 1 view \n",
    "\n",
    "print(row_rank1, row_rank1.shape)  # notice only a single []"
   ]
  },
  {
   "cell_type": "code",
   "execution_count": 3,
   "metadata": {},
   "outputs": [
    {
     "name": "stdout",
     "output_type": "stream",
     "text": [
      "[12 22 32] (3,)\n",
      "\n",
      "[[12]\n",
      " [22]\n",
      " [32]] (3, 1)\n"
     ]
    }
   ],
   "source": [
    "#We can do the same thing for columns of an array:\n",
    "col_rank1 = an_array[:, 1]\n",
    "col_rank2 = an_array[:, 1:2]\n",
    "\n",
    "print(col_rank1, col_rank1.shape)  # Rank 1\n",
    "print()\n",
    "print(col_rank2, col_rank2.shape)  # Rank 2"
   ]
  },
  {
   "attachments": {},
   "cell_type": "markdown",
   "metadata": {},
   "source": [
    "Array Indexing for changing elements:\n",
    "\n",
    "Sometimes it's useful to use an array of indexes to access or change elements."
   ]
  },
  {
   "cell_type": "code",
   "execution_count": 5,
   "metadata": {},
   "outputs": [
    {
     "name": "stdout",
     "output_type": "stream",
     "text": [
      "Original Array:\n",
      "[[11 12 13]\n",
      " [21 22 23]\n",
      " [31 32 33]\n",
      " [41 42 43]]\n"
     ]
    }
   ],
   "source": [
    "# Create a new array\n",
    "an_array = np.array([[11,12,13], [21,22,23], [31,32,33], [41,42,43]])\n",
    "\n",
    "print('Original Array:')\n",
    "print(an_array)"
   ]
  },
  {
   "cell_type": "code",
   "execution_count": 6,
   "metadata": {},
   "outputs": [
    {
     "name": "stdout",
     "output_type": "stream",
     "text": [
      "\n",
      "Col indices picked :  [0 1 2 0]\n",
      "\n",
      "Rows indices picked :  [0 1 2 3]\n"
     ]
    }
   ],
   "source": [
    "# Create an array of indices\n",
    "col_indices = np.array([0, 1, 2, 0])\n",
    "print('\\nCol indices picked : ', col_indices)\n",
    "\n",
    "row_indices = np.arange(4)\n",
    "print('\\nRows indices picked : ', row_indices)"
   ]
  },
  {
   "cell_type": "code",
   "execution_count": 6,
   "metadata": {},
   "outputs": [
    {
     "name": "stdout",
     "output_type": "stream",
     "text": [
      "0 ,  0\n",
      "1 ,  1\n",
      "2 ,  2\n",
      "3 ,  0\n"
     ]
    }
   ],
   "source": [
    "# Examine the pairings of row_indices and col_indices.These are the elements we'll change next.\n",
    "for row, col in zip(row_indices, col_indices):\n",
    "    print(row, \", \", col)"
   ]
  },
  {
   "cell_type": "code",
   "execution_count": 12,
   "metadata": {},
   "outputs": [
    {
     "name": "stdout",
     "output_type": "stream",
     "text": [
      "[0 1 2 3]\n",
      "Values in the array at those indices:  [11 22 33 41]\n"
     ]
    }
   ],
   "source": [
    "# Select one element from each row\n",
    "print('Values in the array at those indices: ',an_array[row_indices, col_indices])"
   ]
  },
  {
   "cell_type": "code",
   "execution_count": 7,
   "metadata": {},
   "outputs": [
    {
     "name": "stdout",
     "output_type": "stream",
     "text": [
      "\n",
      "Changed Array:\n",
      "[[100011     12     13]\n",
      " [    21 100022     23]\n",
      " [    31     32 100033]\n",
      " [100041     42     43]]\n"
     ]
    }
   ],
   "source": [
    "# Change one element from each row using the indices selected\n",
    "an_array[row_indices, col_indices] += 100000\n",
    "\n",
    "print('\\nChanged Array:')\n",
    "print(an_array)"
   ]
  },
  {
   "attachments": {},
   "cell_type": "markdown",
   "metadata": {},
   "source": [
    "### Boolean Indexing\n"
   ]
  },
  {
   "attachments": {},
   "cell_type": "markdown",
   "metadata": {},
   "source": [
    "Array Indexing for changing elements:"
   ]
  },
  {
   "cell_type": "code",
   "execution_count": 8,
   "metadata": {},
   "outputs": [
    {
     "name": "stdout",
     "output_type": "stream",
     "text": [
      "[[11 12]\n",
      " [21 22]\n",
      " [31 32]]\n"
     ]
    }
   ],
   "source": [
    "# create a 3x2 array\n",
    "an_array = np.array([[11,12], [21, 22], [31, 32]])\n",
    "print(an_array)"
   ]
  }
 ],
 "metadata": {
  "kernelspec": {
   "display_name": "Python 3",
   "language": "python",
   "name": "python3"
  },
  "language_info": {
   "codemirror_mode": {
    "name": "ipython",
    "version": 3
   },
   "file_extension": ".py",
   "mimetype": "text/x-python",
   "name": "python",
   "nbconvert_exporter": "python",
   "pygments_lexer": "ipython3",
   "version": "3.10.6"
  },
  "orig_nbformat": 4
 },
 "nbformat": 4,
 "nbformat_minor": 2
}
